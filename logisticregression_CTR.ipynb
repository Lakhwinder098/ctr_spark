{
 "cells": [
  {
   "cell_type": "code",
   "execution_count": 5,
   "metadata": {},
   "outputs": [],
   "source": [
    "#Preprocessing\n",
    "import pandas as pd\n",
    "df = pd.read_csv('/home/lakhwinder/parsed_ctr_500000.csv')\n",
    "# Converting Date and time\n",
    "df['hour'] = pd.to_datetime(df.hour).dt.hour\n",
    "# Removing Unwanted Features\n",
    "colomns_to_drop = ['id','site_id','site_domain','app_id','app_domain','device_id','device_ip','device_model','C1','C14','C15','C16','C17','C18','C19','C20','C21']\n",
    "#Drop the coloumns\n",
    "df = df.drop(colomns_to_drop,axis=1)\n",
    "df.to_csv(r'/home/lakhwinder/preprocessed_500000.csv')"
   ]
  },
  {
   "cell_type": "code",
   "execution_count": 1,
   "metadata": {
    "scrolled": true
   },
   "outputs": [
    {
     "name": "stdout",
     "output_type": "stream",
     "text": [
      "Time to train the Model LR : 18.186 seconds\n"
     ]
    }
   ],
   "source": [
    "#  Model training using Logistic regression\n",
    "from pyspark.sql import SparkSession\n",
    "spark = SparkSession.builder.appName('ctr-prediction').getOrCreate()\n",
    "spark_df = spark.read.csv('hdfs://lakhwinder/preprocessed_500000.csv', header = True, inferSchema = True)\n",
    "spark_df = spark_df.drop('_c0')\n",
    "cols = spark_df.columns\n",
    "#Handling Categorical Data\n",
    "from pyspark.ml import Pipeline\n",
    "from pyspark.ml.feature import OneHotEncoderEstimator, StringIndexer, VectorAssembler\n",
    "catergoricalFeature = [\"banner_pos\", \"site_category\", \"app_category\",\"device_type\", \"device_conn_type\"]\n",
    "stages = [] # stages in our Pipeline\n",
    "for catergoricalFeat in catergoricalFeature:\n",
    "    # StringIndexer for category Indexing\n",
    "    strIndexer = StringIndexer(inputCol=catergoricalFeat, outputCol=catergoricalFeat + \"Index\").setHandleInvalid(\"skip\")\n",
    "    # Using OneHotEncoder\n",
    "    ohencoder = OneHotEncoderEstimator(inputCols=[strIndexer.getOutputCol()], outputCols=[catergoricalFeat + \"classVec\"])\n",
    "    # Add stages for pipeline\n",
    "    stages += [strIndexer, ohencoder]\n",
    "\n",
    "label_output = StringIndexer(inputCol=\"click\", outputCol=\"label\")\n",
    "stages += [label_output]\n",
    "\n",
    "numericCols = [\"hour\"]\n",
    "assemblerInputs = [c + \"classVec\" for c in catergoricalFeature] + numericCols\n",
    "assembler = VectorAssembler(inputCols=assemblerInputs, outputCol=\"features\")\n",
    "stages += [assembler]\n",
    "\n",
    "# Applying Logistic regression\n",
    "from pyspark.ml.classification import LogisticRegression\n",
    "partialPipeline = Pipeline().setStages(stages)\n",
    "pipelineModel = partialPipeline.fit(spark_df)\n",
    "preppedDataDF = pipelineModel.transform(spark_df)\n",
    "\n",
    "train, test = preppedDataDF.randomSplit([0.90, 0.10], seed = 2)\n",
    "from time import *\n",
    "start_time = time()\n",
    "lrModel = LogisticRegression(featuresCol='features',labelCol = 'label', maxIter=10)\n",
    "lrModel1 = lrModel.fit(train)\n",
    "\n",
    "end_time = time()\n",
    "elapsed_time = end_time - start_time\n",
    "print(\"Time to train the Model LR : %.3f seconds\" % elapsed_time)"
   ]
  },
  {
   "cell_type": "code",
   "execution_count": 3,
   "metadata": {},
   "outputs": [
    {
     "name": "stdout",
     "output_type": "stream",
     "text": [
      "objectiveHistory:\n",
      "0.45430570251293145\n",
      "0.44633430836316007\n",
      "0.44487686086476236\n",
      "0.4430134094105652\n",
      "0.4426208971590958\n",
      "0.44185707718214345\n",
      "0.4410900402254555\n",
      "0.44057593505710135\n",
      "0.4404407673844047\n",
      "0.4403957882836196\n",
      "0.4403262498348738\n",
      "False positive rate by label:\n",
      "label 0: 0.9982370276812967\n",
      "label 1: 0.0003210882751940577\n",
      "True positive rate by label:\n",
      "label 0: 0.9996789117248059\n",
      "label 1: 0.0017629723187032945\n",
      "Precision by label:\n",
      "label 0: 0.8311971754215398\n",
      "label 1: 0.5275590551181102\n",
      "Recall by label:\n",
      "label 0: 0.9996789117248059\n",
      "label 1: 0.0017629723187032945\n",
      "F-measure by label:\n",
      "label 0: 0.907685990971949\n",
      "label 1: 0.0035142010437701613\n",
      "Accuracy: 0.8310256883467448\n",
      "FPR: 0.8295838043032356\n",
      "TPR: 0.831025688346745\n",
      "F-measure: 0.7548760389136104\n",
      "Precision: 0.7798806810080867\n",
      "Recall: 0.831025688346745\n"
     ]
    }
   ],
   "source": [
    "trainingSummary = lrModel1.summary\n",
    "\n",
    "# Obtain the objective per iteration\n",
    "objectiveHistory = trainingSummary.objectiveHistory\n",
    "print(\"objectiveHistory:\")\n",
    "for objective in objectiveHistory:\n",
    "    print(objective)\n",
    "\n",
    "# for binary classification, using precision recall and f1-score with accuracy\n",
    "print(\"False positive rate by label:\")\n",
    "for i, rate in enumerate(trainingSummary.falsePositiveRateByLabel):\n",
    "    print(\"label %d: %s\" % (i, rate))\n",
    "\n",
    "print(\"True positive rate by label:\")\n",
    "for i, rate in enumerate(trainingSummary.truePositiveRateByLabel):\n",
    "    print(\"label %d: %s\" % (i, rate))\n",
    "\n",
    "print(\"Precision by label:\")\n",
    "for i, prec in enumerate(trainingSummary.precisionByLabel):\n",
    "    print(\"label %d: %s\" % (i, prec))\n",
    "\n",
    "print(\"Recall by label:\")\n",
    "for i, rec in enumerate(trainingSummary.recallByLabel):\n",
    "    print(\"label %d: %s\" % (i, rec))\n",
    "\n",
    "print(\"F-measure by label:\")\n",
    "for i, f in enumerate(trainingSummary.fMeasureByLabel()):\n",
    "    print(\"label %d: %s\" % (i, f))\n",
    "\n",
    "accuracy = trainingSummary.accuracy\n",
    "falsePositiveRate = trainingSummary.weightedFalsePositiveRate\n",
    "truePositiveRate = trainingSummary.weightedTruePositiveRate\n",
    "fMeasure = trainingSummary.weightedFMeasure()\n",
    "precision = trainingSummary.weightedPrecision\n",
    "recall = trainingSummary.weightedRecall\n",
    "print(\"Accuracy: %s\\nFPR: %s\\nTPR: %s\\nF-measure: %s\\nPrecision: %s\\nRecall: %s\"\n",
    "      % (accuracy, falsePositiveRate, truePositiveRate, fMeasure, precision, recall))"
   ]
  },
  {
   "cell_type": "code",
   "execution_count": 4,
   "metadata": {},
   "outputs": [],
   "source": [
    "predictions = lrModel1.transform(test)\n",
    "#predictions.select('banner_pos','label','rawPrediction', 'probability', 'prediction').show(10)"
   ]
  },
  {
   "cell_type": "code",
   "execution_count": 5,
   "metadata": {},
   "outputs": [
    {
     "name": "stdout",
     "output_type": "stream",
     "text": [
      "Test Area Under ROC: 0.6101698894369141\n"
     ]
    }
   ],
   "source": [
    "from pyspark.mllib.evaluation import BinaryClassificationMetrics\n",
    "from pyspark.ml.evaluation import BinaryClassificationEvaluator\n",
    "evaluator = BinaryClassificationEvaluator()\n",
    "accuracy_test = evaluator.evaluate(predictions)\n",
    "print(\"Test Area Under ROC: %s\" % (accuracy_test))"
   ]
  },
  {
   "cell_type": "code",
   "execution_count": 44,
   "metadata": {},
   "outputs": [
    {
     "data": {
      "image/png": "[encoded data removed]",
      "text/plain": [
       "<Figure size 432x288 with 1 Axes>"
      ]
     },
     "metadata": {
      "needs_background": "light"
     },
     "output_type": "display_data"
    },
    {
     "data": {
      "image/png": "[encoded data removed]",
      "text/plain": [
       "<Figure size 432x288 with 1 Axes>"
      ]
     },
     "metadata": {
      "needs_background": "light"
     },
     "output_type": "display_data"
    },
    {
     "name": "stdout",
     "output_type": "stream",
     "text": [
      "Training set areaUnderROC: 0.618990049282226\n"
     ]
    },
    {
     "data": {
      "image/png": "[encoded data removed]",
      "text/plain": [
       "<Figure size 432x288 with 1 Axes>"
      ]
     },
     "metadata": {
      "needs_background": "light"
     },
     "output_type": "display_data"
    },
    {
     "name": "stdout",
     "output_type": "stream",
     "text": [
      "Precision is :0.7798806810080867\n",
      "Recall is : 0.831025688346745\n"
     ]
    }
   ],
   "source": [
    "import matplotlib.pyplot as plt\n",
    "import numpy as np\n",
    "%matplotlib inline\n",
    "beta = np.sort(lrModel1.coefficients)\n",
    "plt.plot(beta)\n",
    "plt.ylabel('Beta Coefficients')\n",
    "plt.show()\n",
    "\n",
    "trainingSummary = lrModel1.summary\n",
    "roc = trainingSummary.roc.toPandas()\n",
    "plt.plot(roc['FPR'],roc['TPR'])\n",
    "plt.ylabel('False Positive Rate')\n",
    "plt.xlabel('True Positive Rate')\n",
    "plt.title('ROC Curve')\n",
    "plt.show()\n",
    "print('Training set areaUnderROC: ' + str(trainingSummary.areaUnderROC))\n",
    "\n",
    "pr = trainingSummary.pr.toPandas()\n",
    "plt.plot(pr['recall'],pr['precision'])\n",
    "plt.ylabel('Precision')\n",
    "plt.xlabel('Recall')\n",
    "plt.show()\n",
    "precision = trainingSummary.weightedPrecision\n",
    "recall = trainingSummary.weightedRecall\n",
    "print('Precision is :' + str(precision))\n",
    "print('Recall is : '+ str(recall))"
   ]
  },
  {
   "cell_type": "code",
   "execution_count": null,
   "metadata": {},
   "outputs": [],
   "source": []
  }
 ],
 "metadata": {
  "kernelspec": {
   "display_name": "Python 3",
   "language": "python",
   "name": "python3"
  },
  "language_info": {
   "codemirror_mode": {
    "name": "ipython",
    "version": 3
   },
   "file_extension": ".py",
   "mimetype": "text/x-python",
   "name": "python",
   "nbconvert_exporter": "python",
   "pygments_lexer": "ipython3",
   "version": "3.5.2"
  }
 },
 "nbformat": 4,
 "nbformat_minor": 2
}
