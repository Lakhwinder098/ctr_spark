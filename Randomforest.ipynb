{
 "cells": [
  {
   "cell_type": "code",
   "execution_count": 1,
   "metadata": {},
   "outputs": [
    {
     "name": "stdout",
     "output_type": "stream",
     "text": [
      "Time to train the Model LR : 51.810 seconds\n"
     ]
    }
   ],
   "source": [
    "#  Model training using Random Forest\n",
    "from pyspark.sql import SparkSession\n",
    "spark = SparkSession.builder.appName('ctr-prediction').getOrCreate()\n",
    "spark_df = spark.read.csv('hdfs://lakhwinder/preprocessed_500000.csv', header = True, inferSchema = True)\n",
    "spark_df = spark_df.drop('_c0')\n",
    "cols = spark_df.columns\n",
    "#Handling Categorical Data\n",
    "from pyspark.ml import Pipeline\n",
    "from pyspark.ml.feature import OneHotEncoderEstimator, StringIndexer, VectorAssembler\n",
    "catergoricalFeature = [\"banner_pos\", \"site_category\", \"app_category\",\"device_type\", \"device_conn_type\"]\n",
    "stages = [] # stages in our Pipeline\n",
    "for catergoricalFeat in catergoricalFeature:\n",
    "    # StringIndexer for category Indexing\n",
    "    strIndexer = StringIndexer(inputCol=catergoricalFeat, outputCol=catergoricalFeat + \"Index\").setHandleInvalid(\"skip\")\n",
    "    # Using OneHotEncoder\n",
    "    ohencoder = OneHotEncoderEstimator(inputCols=[strIndexer.getOutputCol()], outputCols=[catergoricalFeat + \"classVec\"])\n",
    "    # Add stages for pipeline\n",
    "    stages += [strIndexer, ohencoder]\n",
    "\n",
    "label_output = StringIndexer(inputCol=\"click\", outputCol=\"label\")\n",
    "stages += [label_output]\n",
    "\n",
    "numericCols = [\"hour\"]\n",
    "assemblerInputs = [c + \"classVec\" for c in catergoricalFeature] + numericCols\n",
    "assembler = VectorAssembler(inputCols=assemblerInputs, outputCol=\"features\")\n",
    "stages += [assembler]\n",
    "\n",
    "partialPipeline = Pipeline().setStages(stages)\n",
    "pipelineModel = partialPipeline.fit(spark_df)\n",
    "preppedDataDF = pipelineModel.transform(spark_df)\n",
    "\n",
    "train, test = preppedDataDF.randomSplit([0.90, 0.10], seed = 2)\n",
    "from pyspark.ml.classification import RandomForestClassifier\n",
    "\n",
    "#Calculating Time take to train the model\n",
    "from time import *\n",
    "start_time = time()\n",
    "\n",
    "#Applying Random Forest Algorithm\n",
    "rf = RandomForestClassifier(featuresCol = 'features', labelCol = 'label')\n",
    "rfModel = rf.fit(train)\n",
    "predictions = rfModel.transform(test)\n",
    "\n",
    "end_time = time()\n",
    "elapsed_time = end_time - start_time\n",
    "print(\"Time to train the Model LR : %.3f seconds\" % elapsed_time)"
   ]
  },
  {
   "cell_type": "code",
   "execution_count": 2,
   "metadata": {},
   "outputs": [
    {
     "name": "stdout",
     "output_type": "stream",
     "text": [
      "Test Area Under ROC: 0.59742228126983\n"
     ]
    }
   ],
   "source": [
    "from pyspark.mllib.evaluation import BinaryClassificationMetrics\n",
    "from pyspark.ml.evaluation import BinaryClassificationEvaluator\n",
    "evaluator = BinaryClassificationEvaluator()\n",
    "accuracy_test = evaluator.evaluate(predictions)\n",
    "print(\"Test Area Under ROC: %s\" % (accuracy_test))"
   ]
  }
 ],
 "metadata": {
  "kernelspec": {
   "display_name": "Python 3",
   "language": "python",
   "name": "python3"
  },
  "language_info": {
   "codemirror_mode": {
    "name": "ipython",
    "version": 3
   },
   "file_extension": ".py",
   "mimetype": "text/x-python",
   "name": "python",
   "nbconvert_exporter": "python",
   "pygments_lexer": "ipython3",
   "version": "3.5.2"
  }
 },
 "nbformat": 4,
 "nbformat_minor": 2
}
