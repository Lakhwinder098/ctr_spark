{
 "cells": [
  {
   "cell_type": "code",
   "execution_count": 1,
   "metadata": {},
   "outputs": [
    {
     "name": "stdout",
     "output_type": "stream",
     "text": [
      "Time to train the Model LR : 101.464 seconds\n"
     ]
    }
   ],
   "source": [
    "#Applying Support Vector Machine\n",
    "from pyspark.sql import SparkSession\n",
    "spark = SparkSession.builder.appName('ctr-prediction').getOrCreate()\n",
    "spark_df = spark.read.csv('hdfs://lakhwinder/preprocessed_500000.csv', header = True, inferSchema = True)\n",
    "spark_df = spark_df.drop('_c0')\n",
    "\n",
    "#Handling Categorical Data\n",
    "from pyspark.ml import Pipeline\n",
    "from pyspark.ml.feature import OneHotEncoderEstimator, StringIndexer, VectorAssembler\n",
    "catergoricalFeature = [\"banner_pos\", \"site_category\", \"app_category\",\"device_type\", \"device_conn_type\"]\n",
    "stages = [] # stages in our Pipeline\n",
    "for catergoricalFeat in catergoricalFeature:\n",
    "    # StringIndexer for category Indexing\n",
    "    strIndexer = StringIndexer(inputCol=catergoricalFeat, outputCol=catergoricalFeat + \"Index\").setHandleInvalid(\"skip\")\n",
    "    # Using OneHotEncoder\n",
    "    ohencoder = OneHotEncoderEstimator(inputCols=[strIndexer.getOutputCol()], outputCols=[catergoricalFeat + \"classVec\"])\n",
    "    # Add stages for pipeline\n",
    "    stages += [strIndexer, ohencoder]\n",
    "\n",
    "label_output = StringIndexer(inputCol=\"click\", outputCol=\"label\")\n",
    "stages += [label_output]\n",
    "\n",
    "numericCols = [\"hour\"]\n",
    "assemblerInputs = [c + \"classVec\" for c in catergoricalFeature] + numericCols\n",
    "assembler = VectorAssembler(inputCols=assemblerInputs, outputCol=\"features\")\n",
    "stages += [assembler]\n",
    "\n",
    "# Applying Support Vector Machine (SVM) algorithm\n",
    "from pyspark.ml.classification import LinearSVC\n",
    "partialPipeline = Pipeline().setStages(stages)\n",
    "pipelineModel = partialPipeline.fit(spark_df)\n",
    "preppedDataDF = pipelineModel.transform(spark_df)\n",
    "\n",
    "train, test = preppedDataDF.randomSplit([0.75, 0.25], seed = 2)\n",
    "\n",
    "#Calculating the training time\n",
    "from time import *\n",
    "start_time = time()\n",
    "\n",
    "lsvmModel = LinearSVC(featuresCol='features',labelCol = 'label', maxIter=10)\n",
    "lsvmModel1 = lsvmModel.fit(train)\n",
    "\n",
    "end_time = time()\n",
    "elapsed_time = end_time - start_time\n",
    "print(\"Time to train the Model LR : %.3f seconds\" % elapsed_time)"
   ]
  },
  {
   "cell_type": "code",
   "execution_count": 4,
   "metadata": {},
   "outputs": [
    {
     "data": {
      "text/plain": [
       "0.5783887886247026"
      ]
     },
     "execution_count": 4,
     "metadata": {},
     "output_type": "execute_result"
    }
   ],
   "source": [
    "from pyspark.mllib.evaluation import BinaryClassificationMetrics\n",
    "from pyspark.ml.evaluation import BinaryClassificationEvaluator\n",
    "predictions = lsvmModel1.transform(test)\n",
    "\n",
    "#Finding the Accuracy\n",
    "evaluator = BinaryClassificationEvaluator()\n",
    "accuracy = evaluator.evaluate(predictions)\n",
    "accuracy"
   ]
  }
 ],
 "metadata": {
  "kernelspec": {
   "display_name": "Python 3",
   "language": "python",
   "name": "python3"
  },
  "language_info": {
   "codemirror_mode": {
    "name": "ipython",
    "version": 3
   },
   "file_extension": ".py",
   "mimetype": "text/x-python",
   "name": "python",
   "nbconvert_exporter": "python",
   "pygments_lexer": "ipython3",
   "version": "3.5.2"
  }
 },
 "nbformat": 4,
 "nbformat_minor": 2
}
